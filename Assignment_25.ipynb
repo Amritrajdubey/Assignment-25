{
 "cells": [
  {
   "cell_type": "code",
   "execution_count": null,
   "id": "6981a43c",
   "metadata": {},
   "outputs": [],
   "source": [
    "1) . What is the difference between enclosing a list comprehension in square brackets and\n",
    "parentheses?"
   ]
  },
  {
   "cell_type": "markdown",
   "id": "5c2491c2",
   "metadata": {},
   "source": [
    "When we enclose list comprehension in sq bracket it's list comprehension and if enclosed in \n",
    "parentheses it's Generator expression.\n",
    "\n",
    "List comprehension :\n",
    "[ x**2 for x in range(100)]\n",
    "\n",
    "Generator expression :\n",
    "( x**2 for x in range(100))"
   ]
  },
  {
   "cell_type": "code",
   "execution_count": null,
   "id": "a5b83e3f",
   "metadata": {},
   "outputs": [],
   "source": [
    "2) What is the relationship between generators and iterators?"
   ]
  },
  {
   "cell_type": "markdown",
   "id": "b4864a02",
   "metadata": {},
   "source": [
    "Generator is formed by calling a function that has one or more yield expression . \n",
    "Iterators are object which are used to iterate over an iterable object using next() funtion .\n",
    "\n",
    "* Every Generator is an iterator but not vice versa ."
   ]
  },
  {
   "cell_type": "code",
   "execution_count": null,
   "id": "04459475",
   "metadata": {},
   "outputs": [],
   "source": [
    "3) What are the signs that a function is a generator function?"
   ]
  },
  {
   "cell_type": "markdown",
   "id": "32178411",
   "metadata": {},
   "source": [
    "When yield statement is present instead of print then it's Generator function ."
   ]
  },
  {
   "cell_type": "code",
   "execution_count": null,
   "id": "25017c72",
   "metadata": {},
   "outputs": [],
   "source": [
    "4) What is the purpose of a yield statement?"
   ]
  },
  {
   "cell_type": "markdown",
   "id": "7b00a4cb",
   "metadata": {},
   "source": [
    "Purpose of yield statement is to make function a generator ."
   ]
  },
  {
   "cell_type": "code",
   "execution_count": null,
   "id": "f86589d7",
   "metadata": {},
   "outputs": [],
   "source": [
    "5) What is the relationship between map calls and list comprehensions? Make a comparison and\n",
    "contrast between the two."
   ]
  },
  {
   "cell_type": "markdown",
   "id": "72a2ebab",
   "metadata": {},
   "source": [
    "List comprehension return a list vs map comprehension return an object of iterable through which we can iterate .\n",
    "for huge and complex code list comprehension execution is faster than map comprehension .\n",
    "when we are using predefined function then map comprehension is way faster ."
   ]
  },
  {
   "cell_type": "code",
   "execution_count": null,
   "id": "2bf87ba9",
   "metadata": {},
   "outputs": [],
   "source": []
  },
  {
   "cell_type": "code",
   "execution_count": null,
   "id": "3389f3e9",
   "metadata": {},
   "outputs": [],
   "source": []
  },
  {
   "cell_type": "code",
   "execution_count": null,
   "id": "e62a91b0",
   "metadata": {},
   "outputs": [],
   "source": []
  }
 ],
 "metadata": {
  "kernelspec": {
   "display_name": "Python 3 (ipykernel)",
   "language": "python",
   "name": "python3"
  },
  "language_info": {
   "codemirror_mode": {
    "name": "ipython",
    "version": 3
   },
   "file_extension": ".py",
   "mimetype": "text/x-python",
   "name": "python",
   "nbconvert_exporter": "python",
   "pygments_lexer": "ipython3",
   "version": "3.9.13"
  }
 },
 "nbformat": 4,
 "nbformat_minor": 5
}
